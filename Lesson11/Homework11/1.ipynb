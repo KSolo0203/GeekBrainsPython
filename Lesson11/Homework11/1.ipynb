{
 "cells": [
  {
   "cell_type": "markdown",
   "metadata": {},
   "source": [
    "Прочесть с помощью pandas файл california_housing_test.csv"
   ]
  },
  {
   "cell_type": "code",
   "execution_count": 36,
   "metadata": {},
   "outputs": [],
   "source": [
    "import pandas as pd\n",
    "\n",
    "data = pd.read_csv('../Seminar11/california_housing_train.csv') # дабы не засорять GitHub (директории Seminar в гитигноре)"
   ]
  },
  {
   "cell_type": "markdown",
   "metadata": {},
   "source": [
    "Посмотреть сколько в нем строк и столбцов"
   ]
  },
  {
   "cell_type": "code",
   "execution_count": 37,
   "metadata": {},
   "outputs": [
    {
     "name": "stdout",
     "output_type": "stream",
     "text": [
      "В данной таблице 9 столбцов и 17000 строк.\n"
     ]
    }
   ],
   "source": [
    "shape = data.shape\n",
    "\n",
    "print(f'В данной таблице {shape[1]} столбцов и {shape[0]} строк.')"
   ]
  },
  {
   "cell_type": "markdown",
   "metadata": {},
   "source": [
    "Определить какой тип данных имеют столбцы"
   ]
  },
  {
   "cell_type": "code",
   "execution_count": 4,
   "metadata": {},
   "outputs": [
    {
     "name": "stdout",
     "output_type": "stream",
     "text": [
      "Столбцы содержат следующие типы данных:\n"
     ]
    },
    {
     "data": {
      "text/plain": [
       "longitude           float64\n",
       "latitude            float64\n",
       "housingMedianAge      int64\n",
       "totalRooms            int64\n",
       "totalBedrooms         int64\n",
       "population            int64\n",
       "households            int64\n",
       "medianIncome        float64\n",
       "medianHouseValue      int64\n",
       "dtype: object"
      ]
     },
     "execution_count": 4,
     "metadata": {},
     "output_type": "execute_result"
    }
   ],
   "source": [
    "print(f'Столбцы содержат следующие типы данных:')\n",
    "\n",
    "data.dtypes"
   ]
  },
  {
   "cell_type": "markdown",
   "metadata": {},
   "source": [
    "Показать longitude где housing_median_age < 35"
   ]
  },
  {
   "cell_type": "code",
   "execution_count": 5,
   "metadata": {},
   "outputs": [
    {
     "name": "stdout",
     "output_type": "stream",
     "text": [
      "Здания, возраст которых меньше, чем 35 лет, располагаются на следующих долготах:\n"
     ]
    },
    {
     "data": {
      "text/html": [
       "<div>\n",
       "<style scoped>\n",
       "    .dataframe tbody tr th:only-of-type {\n",
       "        vertical-align: middle;\n",
       "    }\n",
       "\n",
       "    .dataframe tbody tr th {\n",
       "        vertical-align: top;\n",
       "    }\n",
       "\n",
       "    .dataframe thead th {\n",
       "        text-align: right;\n",
       "    }\n",
       "</style>\n",
       "<table border=\"1\" class=\"dataframe\">\n",
       "  <thead>\n",
       "    <tr style=\"text-align: right;\">\n",
       "      <th></th>\n",
       "      <th>longitude</th>\n",
       "    </tr>\n",
       "  </thead>\n",
       "  <tbody>\n",
       "    <tr>\n",
       "      <th>0</th>\n",
       "      <td>-114.31</td>\n",
       "    </tr>\n",
       "    <tr>\n",
       "      <th>1</th>\n",
       "      <td>-114.47</td>\n",
       "    </tr>\n",
       "    <tr>\n",
       "      <th>2</th>\n",
       "      <td>-114.56</td>\n",
       "    </tr>\n",
       "    <tr>\n",
       "      <th>3</th>\n",
       "      <td>-114.57</td>\n",
       "    </tr>\n",
       "    <tr>\n",
       "      <th>4</th>\n",
       "      <td>-114.57</td>\n",
       "    </tr>\n",
       "    <tr>\n",
       "      <th>...</th>\n",
       "      <td>...</td>\n",
       "    </tr>\n",
       "    <tr>\n",
       "      <th>16990</th>\n",
       "      <td>-124.22</td>\n",
       "    </tr>\n",
       "    <tr>\n",
       "      <th>16991</th>\n",
       "      <td>-124.23</td>\n",
       "    </tr>\n",
       "    <tr>\n",
       "      <th>16994</th>\n",
       "      <td>-124.25</td>\n",
       "    </tr>\n",
       "    <tr>\n",
       "      <th>16997</th>\n",
       "      <td>-124.30</td>\n",
       "    </tr>\n",
       "    <tr>\n",
       "      <th>16998</th>\n",
       "      <td>-124.30</td>\n",
       "    </tr>\n",
       "  </tbody>\n",
       "</table>\n",
       "<p>11117 rows × 1 columns</p>\n",
       "</div>"
      ],
      "text/plain": [
       "       longitude\n",
       "0        -114.31\n",
       "1        -114.47\n",
       "2        -114.56\n",
       "3        -114.57\n",
       "4        -114.57\n",
       "...          ...\n",
       "16990    -124.22\n",
       "16991    -124.23\n",
       "16994    -124.25\n",
       "16997    -124.30\n",
       "16998    -124.30\n",
       "\n",
       "[11117 rows x 1 columns]"
      ]
     },
     "execution_count": 5,
     "metadata": {},
     "output_type": "execute_result"
    }
   ],
   "source": [
    "print(f'Здания, возраст которых меньше, чем 35 лет, располагаются на следующих долготах:')\n",
    "\n",
    "data.loc[data['housingMedianAge'] < 35, ['longitude']]"
   ]
  },
  {
   "cell_type": "markdown",
   "metadata": {},
   "source": [
    "Показать столбцы longitude и latitude"
   ]
  },
  {
   "cell_type": "code",
   "execution_count": 6,
   "metadata": {},
   "outputs": [
    {
     "data": {
      "text/html": [
       "<div>\n",
       "<style scoped>\n",
       "    .dataframe tbody tr th:only-of-type {\n",
       "        vertical-align: middle;\n",
       "    }\n",
       "\n",
       "    .dataframe tbody tr th {\n",
       "        vertical-align: top;\n",
       "    }\n",
       "\n",
       "    .dataframe thead th {\n",
       "        text-align: right;\n",
       "    }\n",
       "</style>\n",
       "<table border=\"1\" class=\"dataframe\">\n",
       "  <thead>\n",
       "    <tr style=\"text-align: right;\">\n",
       "      <th></th>\n",
       "      <th>longitude</th>\n",
       "      <th>latitude</th>\n",
       "    </tr>\n",
       "  </thead>\n",
       "  <tbody>\n",
       "    <tr>\n",
       "      <th>0</th>\n",
       "      <td>-114.31</td>\n",
       "      <td>34.19</td>\n",
       "    </tr>\n",
       "    <tr>\n",
       "      <th>1</th>\n",
       "      <td>-114.47</td>\n",
       "      <td>34.40</td>\n",
       "    </tr>\n",
       "    <tr>\n",
       "      <th>2</th>\n",
       "      <td>-114.56</td>\n",
       "      <td>33.69</td>\n",
       "    </tr>\n",
       "    <tr>\n",
       "      <th>3</th>\n",
       "      <td>-114.57</td>\n",
       "      <td>33.64</td>\n",
       "    </tr>\n",
       "    <tr>\n",
       "      <th>4</th>\n",
       "      <td>-114.57</td>\n",
       "      <td>33.57</td>\n",
       "    </tr>\n",
       "    <tr>\n",
       "      <th>...</th>\n",
       "      <td>...</td>\n",
       "      <td>...</td>\n",
       "    </tr>\n",
       "    <tr>\n",
       "      <th>16995</th>\n",
       "      <td>-124.26</td>\n",
       "      <td>40.58</td>\n",
       "    </tr>\n",
       "    <tr>\n",
       "      <th>16996</th>\n",
       "      <td>-124.27</td>\n",
       "      <td>40.69</td>\n",
       "    </tr>\n",
       "    <tr>\n",
       "      <th>16997</th>\n",
       "      <td>-124.30</td>\n",
       "      <td>41.84</td>\n",
       "    </tr>\n",
       "    <tr>\n",
       "      <th>16998</th>\n",
       "      <td>-124.30</td>\n",
       "      <td>41.80</td>\n",
       "    </tr>\n",
       "    <tr>\n",
       "      <th>16999</th>\n",
       "      <td>-124.35</td>\n",
       "      <td>40.54</td>\n",
       "    </tr>\n",
       "  </tbody>\n",
       "</table>\n",
       "<p>17000 rows × 2 columns</p>\n",
       "</div>"
      ],
      "text/plain": [
       "       longitude  latitude\n",
       "0        -114.31     34.19\n",
       "1        -114.47     34.40\n",
       "2        -114.56     33.69\n",
       "3        -114.57     33.64\n",
       "4        -114.57     33.57\n",
       "...          ...       ...\n",
       "16995    -124.26     40.58\n",
       "16996    -124.27     40.69\n",
       "16997    -124.30     41.84\n",
       "16998    -124.30     41.80\n",
       "16999    -124.35     40.54\n",
       "\n",
       "[17000 rows x 2 columns]"
      ]
     },
     "execution_count": 6,
     "metadata": {},
     "output_type": "execute_result"
    }
   ],
   "source": [
    "data[['longitude','latitude']]"
   ]
  },
  {
   "cell_type": "markdown",
   "metadata": {},
   "source": [
    "Выбрать данные где total_rooms < 2000 и population > 1500"
   ]
  },
  {
   "cell_type": "code",
   "execution_count": 7,
   "metadata": {},
   "outputs": [
    {
     "data": {
      "text/html": [
       "<div>\n",
       "<style scoped>\n",
       "    .dataframe tbody tr th:only-of-type {\n",
       "        vertical-align: middle;\n",
       "    }\n",
       "\n",
       "    .dataframe tbody tr th {\n",
       "        vertical-align: top;\n",
       "    }\n",
       "\n",
       "    .dataframe thead th {\n",
       "        text-align: right;\n",
       "    }\n",
       "</style>\n",
       "<table border=\"1\" class=\"dataframe\">\n",
       "  <thead>\n",
       "    <tr style=\"text-align: right;\">\n",
       "      <th></th>\n",
       "      <th>longitude</th>\n",
       "      <th>latitude</th>\n",
       "      <th>housingMedianAge</th>\n",
       "      <th>totalRooms</th>\n",
       "      <th>totalBedrooms</th>\n",
       "      <th>population</th>\n",
       "      <th>households</th>\n",
       "      <th>medianIncome</th>\n",
       "      <th>medianHouseValue</th>\n",
       "    </tr>\n",
       "  </thead>\n",
       "  <tbody>\n",
       "    <tr>\n",
       "      <th>24</th>\n",
       "      <td>-115.22</td>\n",
       "      <td>33.54</td>\n",
       "      <td>18</td>\n",
       "      <td>1706</td>\n",
       "      <td>397</td>\n",
       "      <td>3424</td>\n",
       "      <td>283</td>\n",
       "      <td>1.6250</td>\n",
       "      <td>53500</td>\n",
       "    </tr>\n",
       "    <tr>\n",
       "      <th>40</th>\n",
       "      <td>-115.49</td>\n",
       "      <td>32.69</td>\n",
       "      <td>17</td>\n",
       "      <td>1960</td>\n",
       "      <td>389</td>\n",
       "      <td>1691</td>\n",
       "      <td>356</td>\n",
       "      <td>1.8990</td>\n",
       "      <td>64000</td>\n",
       "    </tr>\n",
       "    <tr>\n",
       "      <th>136</th>\n",
       "      <td>-116.11</td>\n",
       "      <td>33.64</td>\n",
       "      <td>20</td>\n",
       "      <td>1273</td>\n",
       "      <td>354</td>\n",
       "      <td>1548</td>\n",
       "      <td>355</td>\n",
       "      <td>2.0871</td>\n",
       "      <td>84700</td>\n",
       "    </tr>\n",
       "    <tr>\n",
       "      <th>141</th>\n",
       "      <td>-116.15</td>\n",
       "      <td>33.64</td>\n",
       "      <td>10</td>\n",
       "      <td>1711</td>\n",
       "      <td>499</td>\n",
       "      <td>1896</td>\n",
       "      <td>443</td>\n",
       "      <td>1.6557</td>\n",
       "      <td>65400</td>\n",
       "    </tr>\n",
       "    <tr>\n",
       "      <th>145</th>\n",
       "      <td>-116.17</td>\n",
       "      <td>33.53</td>\n",
       "      <td>13</td>\n",
       "      <td>1713</td>\n",
       "      <td>512</td>\n",
       "      <td>1978</td>\n",
       "      <td>442</td>\n",
       "      <td>2.1287</td>\n",
       "      <td>58600</td>\n",
       "    </tr>\n",
       "    <tr>\n",
       "      <th>...</th>\n",
       "      <td>...</td>\n",
       "      <td>...</td>\n",
       "      <td>...</td>\n",
       "      <td>...</td>\n",
       "      <td>...</td>\n",
       "      <td>...</td>\n",
       "      <td>...</td>\n",
       "      <td>...</td>\n",
       "      <td>...</td>\n",
       "    </tr>\n",
       "    <tr>\n",
       "      <th>15865</th>\n",
       "      <td>-122.42</td>\n",
       "      <td>37.76</td>\n",
       "      <td>37</td>\n",
       "      <td>1291</td>\n",
       "      <td>588</td>\n",
       "      <td>1846</td>\n",
       "      <td>557</td>\n",
       "      <td>1.3365</td>\n",
       "      <td>225000</td>\n",
       "    </tr>\n",
       "    <tr>\n",
       "      <th>15871</th>\n",
       "      <td>-122.42</td>\n",
       "      <td>37.75</td>\n",
       "      <td>52</td>\n",
       "      <td>1855</td>\n",
       "      <td>611</td>\n",
       "      <td>1715</td>\n",
       "      <td>614</td>\n",
       "      <td>2.1289</td>\n",
       "      <td>250000</td>\n",
       "    </tr>\n",
       "    <tr>\n",
       "      <th>15886</th>\n",
       "      <td>-122.42</td>\n",
       "      <td>37.73</td>\n",
       "      <td>46</td>\n",
       "      <td>1819</td>\n",
       "      <td>411</td>\n",
       "      <td>1534</td>\n",
       "      <td>406</td>\n",
       "      <td>4.0132</td>\n",
       "      <td>229400</td>\n",
       "    </tr>\n",
       "    <tr>\n",
       "      <th>16073</th>\n",
       "      <td>-122.45</td>\n",
       "      <td>37.75</td>\n",
       "      <td>35</td>\n",
       "      <td>1363</td>\n",
       "      <td>302</td>\n",
       "      <td>1786</td>\n",
       "      <td>301</td>\n",
       "      <td>3.0804</td>\n",
       "      <td>313400</td>\n",
       "    </tr>\n",
       "    <tr>\n",
       "      <th>16140</th>\n",
       "      <td>-122.46</td>\n",
       "      <td>37.69</td>\n",
       "      <td>35</td>\n",
       "      <td>1983</td>\n",
       "      <td>385</td>\n",
       "      <td>1577</td>\n",
       "      <td>414</td>\n",
       "      <td>4.0833</td>\n",
       "      <td>266700</td>\n",
       "    </tr>\n",
       "  </tbody>\n",
       "</table>\n",
       "<p>539 rows × 9 columns</p>\n",
       "</div>"
      ],
      "text/plain": [
       "       longitude  latitude  housingMedianAge  totalRooms  totalBedrooms  \\\n",
       "24       -115.22     33.54                18        1706            397   \n",
       "40       -115.49     32.69                17        1960            389   \n",
       "136      -116.11     33.64                20        1273            354   \n",
       "141      -116.15     33.64                10        1711            499   \n",
       "145      -116.17     33.53                13        1713            512   \n",
       "...          ...       ...               ...         ...            ...   \n",
       "15865    -122.42     37.76                37        1291            588   \n",
       "15871    -122.42     37.75                52        1855            611   \n",
       "15886    -122.42     37.73                46        1819            411   \n",
       "16073    -122.45     37.75                35        1363            302   \n",
       "16140    -122.46     37.69                35        1983            385   \n",
       "\n",
       "       population  households  medianIncome  medianHouseValue  \n",
       "24           3424         283        1.6250             53500  \n",
       "40           1691         356        1.8990             64000  \n",
       "136          1548         355        2.0871             84700  \n",
       "141          1896         443        1.6557             65400  \n",
       "145          1978         442        2.1287             58600  \n",
       "...           ...         ...           ...               ...  \n",
       "15865        1846         557        1.3365            225000  \n",
       "15871        1715         614        2.1289            250000  \n",
       "15886        1534         406        4.0132            229400  \n",
       "16073        1786         301        3.0804            313400  \n",
       "16140        1577         414        4.0833            266700  \n",
       "\n",
       "[539 rows x 9 columns]"
      ]
     },
     "execution_count": 7,
     "metadata": {},
     "output_type": "execute_result"
    }
   ],
   "source": [
    "data[(data['totalRooms'] < 2000) & (data['population'] > 1500)]"
   ]
  },
  {
   "cell_type": "markdown",
   "metadata": {},
   "source": [
    "Определить какое максимальное и минимальное значение **population**"
   ]
  },
  {
   "cell_type": "code",
   "execution_count": 8,
   "metadata": {},
   "outputs": [
    {
     "name": "stdout",
     "output_type": "stream",
     "text": [
      "Максимальное население - 35682, минимальное - 3.\n"
     ]
    }
   ],
   "source": [
    "a = data['population'].max()\n",
    "b = data['population'].min()\n",
    "\n",
    "print(f'Максимальное население - {a}, минимальное - {b}.')"
   ]
  },
  {
   "cell_type": "markdown",
   "metadata": {},
   "source": [
    "(Доп) Показать максимальное **longitude**, где **median_income** > 3"
   ]
  },
  {
   "cell_type": "code",
   "execution_count": 25,
   "metadata": {},
   "outputs": [
    {
     "name": "stdout",
     "output_type": "stream",
     "text": [
      "124.35 запданой долготы\n"
     ]
    }
   ],
   "source": [
    "# data.columns\n",
    "print(f\"{abs(data.loc[(data['medianIncome'] > 3),'longitude']).max()} западной долготы\") # к западу от нулевого меридиана долготы имеют отрицательные значения"
   ]
  },
  {
   "cell_type": "markdown",
   "metadata": {},
   "source": [
    "(Доп) Узнать какая максимальная **total_bedrooms** при минимальном значении **households**"
   ]
  },
  {
   "cell_type": "code",
   "execution_count": 35,
   "metadata": {},
   "outputs": [
    {
     "name": "stdout",
     "output_type": "stream",
     "text": [
      "1\n"
     ]
    }
   ],
   "source": [
    "min_households = data['households'].min()\n",
    "# data.columns\n",
    "desired = data.loc[(data['households'] == min_households), 'totalBedrooms'].max()\n",
    "print(desired)"
   ]
  }
 ],
 "metadata": {
  "kernelspec": {
   "display_name": "Python 3.10.6 64-bit",
   "language": "python",
   "name": "python3"
  },
  "language_info": {
   "codemirror_mode": {
    "name": "ipython",
    "version": 3
   },
   "file_extension": ".py",
   "mimetype": "text/x-python",
   "name": "python",
   "nbconvert_exporter": "python",
   "pygments_lexer": "ipython3",
   "version": "3.10.6"
  },
  "orig_nbformat": 4,
  "vscode": {
   "interpreter": {
    "hash": "26de051ba29f2982a8de78e945f0abaf191376122a1563185a90213a26c5da77"
   }
  }
 },
 "nbformat": 4,
 "nbformat_minor": 2
}
